{
  "nbformat": 4,
  "nbformat_minor": 0,
  "metadata": {
    "colab": {
      "name": "Datetime.ipynb",
      "provenance": []
    },
    "kernelspec": {
      "name": "python3",
      "display_name": "Python 3"
    },
    "language_info": {
      "name": "python"
    }
  },
  "cells": [
    {
      "cell_type": "markdown",
      "source": [
        "# **La librería Datetime**\n",
        "Para manejar fechas en Python se suele utilizar la librería datetime que incorpora los tipos de datos date, time y datetime para representar fechas y funciones para manejarlas. Algunas de las operaciones más habituales que permite son:\n",
        "\n",
        "Acceder a los distintos componentes de una fecha (año, mes, día, hora, minutos, segundos y microsegundos).\n",
        "Convertir cadenas con formato de fecha en los tipos date, time o datetime.\n",
        "Convertir fechas de los tipos date, time o datetime en cadenas formateadas de acuerdo a diferentes formatos de fechas.\n",
        "Hacer aritmética de fechas (sumar o restar fechas).\n",
        "Comparar fechas."
      ],
      "metadata": {
        "id": "zCZcEIAwUGVs"
      }
    },
    {
      "cell_type": "markdown",
      "source": [
        "Los tipos de datos date, time y datetime\n",
        "`date(año, mes, dia)` : Devuelve un objeto de tipo date que representa la fecha con el año, mes y dia indicados.\n",
        "`time(hora, minutos, segundos, microsegundos)` : Devuelve un objeto de tipo time que representa un tiempo la hora, minutos, segundos y microsegundos indicados.\n",
        "`datetime(año, mes, dia, hora, minutos, segundos, microsegundos) `: Devuelve un objeto de tipo datetime que representa una fecha y hora con el `año, mes, dia, hora, minutos, segundos y microsegundos` indicados."
      ],
      "metadata": {
        "id": "dvk78Ic0UJbE"
      }
    },
    {
      "cell_type": "code",
      "execution_count": 3,
      "metadata": {
        "id": "MnYOpBYqUFob"
      },
      "outputs": [],
      "source": [
        "from datetime import date, time, datetime"
      ]
    },
    {
      "cell_type": "code",
      "source": [
        "date(2020, 12, 25)"
      ],
      "metadata": {
        "colab": {
          "base_uri": "https://localhost:8080/"
        },
        "id": "A8C0RuFmUemU",
        "outputId": "d48f99cf-4e20-4fad-d618-dc09d4558f6c"
      },
      "execution_count": 10,
      "outputs": [
        {
          "output_type": "execute_result",
          "data": {
            "text/plain": [
              "datetime.date(2020, 12, 25)"
            ]
          },
          "metadata": {},
          "execution_count": 10
        }
      ]
    },
    {
      "cell_type": "code",
      "source": [
        "time(13,30,5)"
      ],
      "metadata": {
        "colab": {
          "base_uri": "https://localhost:8080/"
        },
        "id": "1oN6owRJUkVa",
        "outputId": "935d18e3-50e4-4831-f341-6e0bc729dbdc"
      },
      "execution_count": 11,
      "outputs": [
        {
          "output_type": "execute_result",
          "data": {
            "text/plain": [
              "datetime.time(13, 30, 5)"
            ]
          },
          "metadata": {},
          "execution_count": 11
        }
      ]
    },
    {
      "cell_type": "code",
      "source": [
        "datetime(2020, 12, 25, 13, 30, 5)"
      ],
      "metadata": {
        "colab": {
          "base_uri": "https://localhost:8080/"
        },
        "id": "DNklMAB4UlRM",
        "outputId": "89874ff0-0855-4799-9155-6a0ebd2a16a0"
      },
      "execution_count": 12,
      "outputs": [
        {
          "output_type": "execute_result",
          "data": {
            "text/plain": [
              "datetime.datetime(2020, 12, 25, 13, 30, 5)"
            ]
          },
          "metadata": {},
          "execution_count": 12
        }
      ]
    },
    {
      "cell_type": "code",
      "source": [
        "print(datetime(2020, 12, 25, 13, 30, 5))"
      ],
      "metadata": {
        "colab": {
          "base_uri": "https://localhost:8080/"
        },
        "id": "AImjnYeXUoTa",
        "outputId": "c9aee2d8-581a-456e-d39d-fd8e40146564"
      },
      "execution_count": 13,
      "outputs": [
        {
          "output_type": "stream",
          "name": "stdout",
          "text": [
            "2020-12-25 13:30:05\n"
          ]
        }
      ]
    },
    {
      "cell_type": "markdown",
      "source": [
        "# **Acceso a los componentes de una fecha**\n",
        "`date.today()` : Devuelve un objeto del tipo date la fecha del sistema en el momento en el que se ejecuta.\n",
        "`datetime.now()`: Devuelve un objeto del tipo datetime con la fecha y la hora del sistema en el momento exacto en el que se ejecuta.\n",
        "`d.year `: Devuelve el año de la fecha d, puede ser del tipo date o datetime.\n",
        "`d.month` : Devuelve el mes de la fecha d, que puede ser del tipo date o datetime.\n",
        "`d.day `: Devuelve el día de la fecha d, que puede ser del tipo date o datetime.\n",
        "`d.weekday()` : Devuelve el día de la semana de la fecha d, que puede serpuede ser del tipo date o datetime.\n",
        "`t.hour `: Devuelve las horas del tiempo t, que puede ser del tipo time o datetime.\n",
        "`t.hour` : Devuelve los minutos del tiempo t, que puede ser del tipo time o datetime.\n",
        "`t.second `: Devuelve los segundos del tiempo t, que puede ser del tipo time o datetime.\n",
        "`t.microsecond `: Devuelve los microsegundos del tiempo t, que puede ser del tipo time o datetime."
      ],
      "metadata": {
        "id": "hP4oZmYoUhHb"
      }
    },
    {
      "cell_type": "code",
      "source": [
        " from datetime import date, time, datetime\n",
        " print(date.today())"
      ],
      "metadata": {
        "colab": {
          "base_uri": "https://localhost:8080/"
        },
        "id": "dBWoa9nlU7ni",
        "outputId": "eb318107-2878-4c5e-cffc-9a1e6d2092da"
      },
      "execution_count": 15,
      "outputs": [
        {
          "output_type": "stream",
          "name": "stdout",
          "text": [
            "2022-06-02\n"
          ]
        }
      ]
    },
    {
      "cell_type": "code",
      "source": [
        "dt = datetime.now()\n",
        "dt.year"
      ],
      "metadata": {
        "colab": {
          "base_uri": "https://localhost:8080/"
        },
        "id": "ALNhqvU1VBL8",
        "outputId": "d0892a64-7635-43c4-b3d3-cad4bd8bd9a7"
      },
      "execution_count": 16,
      "outputs": [
        {
          "output_type": "execute_result",
          "data": {
            "text/plain": [
              "2022"
            ]
          },
          "metadata": {},
          "execution_count": 16
        }
      ]
    },
    {
      "cell_type": "code",
      "source": [
        "dt.month"
      ],
      "metadata": {
        "colab": {
          "base_uri": "https://localhost:8080/"
        },
        "id": "fVJckODFVC87",
        "outputId": "ae30dabb-b99e-47d8-ee65-4705212bbb44"
      },
      "execution_count": 17,
      "outputs": [
        {
          "output_type": "execute_result",
          "data": {
            "text/plain": [
              "6"
            ]
          },
          "metadata": {},
          "execution_count": 17
        }
      ]
    },
    {
      "cell_type": "code",
      "source": [
        "dt.day"
      ],
      "metadata": {
        "colab": {
          "base_uri": "https://localhost:8080/"
        },
        "id": "yv0yEGm3VFOi",
        "outputId": "793127bf-9027-4abb-aaa2-40392faee440"
      },
      "execution_count": 18,
      "outputs": [
        {
          "output_type": "execute_result",
          "data": {
            "text/plain": [
              "2"
            ]
          },
          "metadata": {},
          "execution_count": 18
        }
      ]
    },
    {
      "cell_type": "code",
      "source": [
        "dt.hour"
      ],
      "metadata": {
        "colab": {
          "base_uri": "https://localhost:8080/"
        },
        "id": "iHMtt422VF-i",
        "outputId": "78dd7270-ec06-425e-e32a-5ad89f18ce0c"
      },
      "execution_count": 19,
      "outputs": [
        {
          "output_type": "execute_result",
          "data": {
            "text/plain": [
              "12"
            ]
          },
          "metadata": {},
          "execution_count": 19
        }
      ]
    },
    {
      "cell_type": "code",
      "source": [
        "dt.minute"
      ],
      "metadata": {
        "colab": {
          "base_uri": "https://localhost:8080/"
        },
        "id": "pRjpe3AKVHZ7",
        "outputId": "5ffe6273-2b3c-412a-f150-d25eff1e7f3c"
      },
      "execution_count": 20,
      "outputs": [
        {
          "output_type": "execute_result",
          "data": {
            "text/plain": [
              "11"
            ]
          },
          "metadata": {},
          "execution_count": 20
        }
      ]
    },
    {
      "cell_type": "code",
      "source": [
        "dt.second"
      ],
      "metadata": {
        "colab": {
          "base_uri": "https://localhost:8080/"
        },
        "id": "lmoKgIVQVJVK",
        "outputId": "89da4f45-009a-42d2-c6ff-a3635ff1bd88"
      },
      "execution_count": 21,
      "outputs": [
        {
          "output_type": "execute_result",
          "data": {
            "text/plain": [
              "44"
            ]
          },
          "metadata": {},
          "execution_count": 21
        }
      ]
    },
    {
      "cell_type": "code",
      "source": [
        "dt.microsecond"
      ],
      "metadata": {
        "colab": {
          "base_uri": "https://localhost:8080/"
        },
        "id": "ssw18lqeVKli",
        "outputId": "4d444625-cbe5-4e46-fa6c-87acd1826cbe"
      },
      "execution_count": 22,
      "outputs": [
        {
          "output_type": "execute_result",
          "data": {
            "text/plain": [
              "161274"
            ]
          },
          "metadata": {},
          "execution_count": 22
        }
      ]
    },
    {
      "cell_type": "markdown",
      "source": [
        "# **Conversión de fechas en cadenas con diferentes formatos**\n",
        "`d.strftime(formato)` : Devuelve la cadena que resulta de transformar la fecha d con el `formato` indicado en la cadena `formato`. La cadena formato puede contener los siguientes marcadores de posición: `%Y` (año completo), `%y` (últimos dos dígitos del año), `%m` (mes en número), `%B` (mes en palabra), `%d` (día), `%A `(día de la semana), `%a` (día de la semana abrevidado), %H (hora en formato 24 horas), `%I `(hora en formato 12 horas), `%M` (minutos), `%S` (segundos), `%p` (AM o PM), `%C `(fecha y hora completas), `%x` (fecha completa), `%X` (hora completa)."
      ],
      "metadata": {
        "id": "mJJSaWkYVL8L"
      }
    },
    {
      "cell_type": "code",
      "source": [
        " from datetime import date, time, datetime"
      ],
      "metadata": {
        "id": "lqnI973eVmU6"
      },
      "execution_count": 23,
      "outputs": []
    },
    {
      "cell_type": "code",
      "source": [
        "d = datetime.now()\n",
        "print(d.strftime('%d-%m-%Y'))"
      ],
      "metadata": {
        "colab": {
          "base_uri": "https://localhost:8080/"
        },
        "id": "L5Yb43sEVoyb",
        "outputId": "870e28f2-8e38-4dba-9b4f-51e69b1848f6"
      },
      "execution_count": 24,
      "outputs": [
        {
          "output_type": "stream",
          "name": "stdout",
          "text": [
            "02-06-2022\n"
          ]
        }
      ]
    },
    {
      "cell_type": "code",
      "source": [
        "print(d.strftime('%A, %d %B, %y'))"
      ],
      "metadata": {
        "colab": {
          "base_uri": "https://localhost:8080/"
        },
        "id": "9Hx_XLAaVquz",
        "outputId": "a737bb98-6e47-494a-8cf6-5b509fefe68a"
      },
      "execution_count": 25,
      "outputs": [
        {
          "output_type": "stream",
          "name": "stdout",
          "text": [
            "Thursday, 02 June, 22\n"
          ]
        }
      ]
    },
    {
      "cell_type": "code",
      "source": [
        "print(d.strftime('%H:%M:%S'))"
      ],
      "metadata": {
        "colab": {
          "base_uri": "https://localhost:8080/"
        },
        "id": "PiPxdjNWVsCK",
        "outputId": "1b06a0c2-ff9e-49f7-ac25-5a7d739706b6"
      },
      "execution_count": 26,
      "outputs": [
        {
          "output_type": "stream",
          "name": "stdout",
          "text": [
            "12:14:26\n"
          ]
        }
      ]
    },
    {
      "cell_type": "code",
      "source": [
        "print(d.strftime('%H horas, %M minutos y %S segundos'))"
      ],
      "metadata": {
        "colab": {
          "base_uri": "https://localhost:8080/"
        },
        "id": "lv5ggTJ1Vti6",
        "outputId": "385d26d5-86bf-4bf9-efaf-8f8fa48c2dc2"
      },
      "execution_count": 27,
      "outputs": [
        {
          "output_type": "stream",
          "name": "stdout",
          "text": [
            "12 horas, 14 minutos y 26 segundos\n"
          ]
        }
      ]
    },
    {
      "cell_type": "markdown",
      "source": [
        "# **Conversión de cadenas en fechas**\n",
        "`strptime(s, formato)` : Devuelve el objeto de tipo `date, time o datetime` que resulta de convertir la cadena s de acuerdo al `formato` indicado en la cadena formato. La cadena `formato` puede contener los siguientes marcadores de posición: `%Y` (año completo),` %y` (últimos dos dígitos del año), `%m` (mes en número), `%B` (mes en palabra), `%d` (día), `%A` (día de la semana), `%a` (día de la semana abrevidado), `%H` (hora en formato 24 horas), `%I` (hora en formato 12 horas),` %M` (minutos), `%S` (segundos), `%p` (AM o PM), `%C `(fecha y hora completas), `%x `(fecha completa), `%X` (hora completa)."
      ],
      "metadata": {
        "id": "3rg-VdShVyYZ"
      }
    },
    {
      "cell_type": "code",
      "source": [
        "from datetime import date, time, datetime"
      ],
      "metadata": {
        "id": "btiOuMafWEBJ"
      },
      "execution_count": 28,
      "outputs": []
    },
    {
      "cell_type": "code",
      "source": [
        "datetime.strptime('15/4/2020', '%d/%m/%Y')"
      ],
      "metadata": {
        "colab": {
          "base_uri": "https://localhost:8080/"
        },
        "id": "WuAjRQLYWGOJ",
        "outputId": "5f9086fd-4b16-4d60-95e3-a9e0ef9014b2"
      },
      "execution_count": 29,
      "outputs": [
        {
          "output_type": "execute_result",
          "data": {
            "text/plain": [
              "datetime.datetime(2020, 4, 15, 0, 0)"
            ]
          },
          "metadata": {},
          "execution_count": 29
        }
      ]
    },
    {
      "cell_type": "code",
      "source": [
        "datetime.strptime('2020-4-15 20:50:30', '%Y-%m-%d %H:%M:%S')"
      ],
      "metadata": {
        "colab": {
          "base_uri": "https://localhost:8080/"
        },
        "id": "JMi3Cf_SWH1T",
        "outputId": "3d82a973-0b07-470f-f43f-9b1c6465adc5"
      },
      "execution_count": 30,
      "outputs": [
        {
          "output_type": "execute_result",
          "data": {
            "text/plain": [
              "datetime.datetime(2020, 4, 15, 20, 50, 30)"
            ]
          },
          "metadata": {},
          "execution_count": 30
        }
      ]
    },
    {
      "cell_type": "markdown",
      "source": [
        "# **Aritmética de fechas**\n",
        "Para representar el tiempo transcurrido entre dos fechas se utiliza el tipo timedelta.\n",
        "\n",
        "`timedelta(dias, segundos, microsegundos)` : Devuelve un objeto del tipo `timedelta` que representa un intervalo de tiempo con los `dias, segundos y micorsegundos` indicados.\n",
        "`d1 - d2` : Devuelve un objeto del tipo `timedelta` que representa el tiempo transcurrido entre las fechas `d1 y d2` del tipo `datetime`.\n",
        "`d + delta `: Devuelve la fecha del tipo `datetime` que resulta de sumar a la fecha `d` el intervalo de tiempo `delta`, donde `delta` es del tipo `timedelta`."
      ],
      "metadata": {
        "id": "8QuqkMdOWKzT"
      }
    },
    {
      "cell_type": "code",
      "source": [
        "from datetime import date, time, datetime, timedelta"
      ],
      "metadata": {
        "id": "-4q0jZx6WeIi"
      },
      "execution_count": 31,
      "outputs": []
    },
    {
      "cell_type": "code",
      "source": [
        "d1 = datetime(2020, 1, 1)\n",
        "d1 + timedelta(31, 3600)"
      ],
      "metadata": {
        "colab": {
          "base_uri": "https://localhost:8080/"
        },
        "id": "2zQvMUAwWgDK",
        "outputId": "b1f55729-b494-49ac-d7ff-40a6ec96bf58"
      },
      "execution_count": 32,
      "outputs": [
        {
          "output_type": "execute_result",
          "data": {
            "text/plain": [
              "datetime.datetime(2020, 2, 1, 1, 0)"
            ]
          },
          "metadata": {},
          "execution_count": 32
        }
      ]
    },
    {
      "cell_type": "code",
      "source": [
        "datetime.now() - d1"
      ],
      "metadata": {
        "colab": {
          "base_uri": "https://localhost:8080/"
        },
        "id": "mOSLEYaGWiXx",
        "outputId": "243a4d25-7ce7-4e3f-b1d2-c613842a3096"
      },
      "execution_count": 33,
      "outputs": [
        {
          "output_type": "execute_result",
          "data": {
            "text/plain": [
              "datetime.timedelta(days=883, seconds=44301, microseconds=218053)"
            ]
          },
          "metadata": {},
          "execution_count": 33
        }
      ]
    }
  ]
}